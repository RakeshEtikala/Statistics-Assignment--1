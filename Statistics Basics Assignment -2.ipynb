{
 "cells": [
  {
   "cell_type": "markdown",
   "id": "d5c5f32c-b043-4641-8e8b-5d4b58685f6b",
   "metadata": {},
   "source": [
    "Q1. What are the three measures of central tendency?\n",
    "\n",
    "Mean\n",
    "\n",
    "Median\n",
    "\n",
    "Mode\n"
   ]
  },
  {
   "cell_type": "markdown",
   "id": "f36bfb41-a20c-4e39-80dd-4490959860be",
   "metadata": {},
   "source": [
    "2. What is the difference between the mean, median, and mode? How are they used to measure the \n",
    "central tendency of a dataset?"
   ]
  },
  {
   "cell_type": "markdown",
   "id": "778fb1b3-148f-4ca3-86d6-7b64ebcf8866",
   "metadata": {},
   "source": [
    "Ans. Measure of central tendency tells us basically when we have a dataset where the maximum data is distributed."
   ]
  },
  {
   "cell_type": "markdown",
   "id": "d221dfff-cf4f-458e-ab03-8762b5bcd422",
   "metadata": {},
   "source": [
    "Mean: - The mean is a measure of central tendency in statistics. It is calculated by adding up a set of values and then dividing the sum by the number of values. It is often referred to as the average.\n",
    "\n",
    "Median :- If we have outliers it’s better to use the Median because the mean value changes when it has outliers.\n",
    "\n",
    "Mode: - It focuses on Frequency which has maximum."
   ]
  },
  {
   "cell_type": "markdown",
   "id": "751ccbcb-d9f2-44cb-abef-0cecd71b9ef9",
   "metadata": {},
   "source": [
    "Q3. Measure the three measures of central tendency for the given height data:\n"
   ]
  },
  {
   "cell_type": "code",
   "execution_count": 3,
   "id": "38d26113-b37b-49dd-84f7-f8f5a352ecca",
   "metadata": {},
   "outputs": [],
   "source": [
    "import numpy as np\n",
    "l =  [178,177,176,177,178.2,178,175,179,180,175,178.9,176.2,177,172.5,178,176.5]"
   ]
  },
  {
   "cell_type": "code",
   "execution_count": 5,
   "id": "a29d4735-dfc6-4f79-a1ab-f4a10fbac501",
   "metadata": {},
   "outputs": [
    {
     "data": {
      "text/plain": [
       "177.01875"
      ]
     },
     "execution_count": 5,
     "metadata": {},
     "output_type": "execute_result"
    }
   ],
   "source": [
    "np.mean(l)"
   ]
  },
  {
   "cell_type": "code",
   "execution_count": 6,
   "id": "bb383da9-8559-4695-af6c-3b0490017091",
   "metadata": {},
   "outputs": [
    {
     "data": {
      "text/plain": [
       "177.0"
      ]
     },
     "execution_count": 6,
     "metadata": {},
     "output_type": "execute_result"
    }
   ],
   "source": [
    "np.median(l)"
   ]
  },
  {
   "cell_type": "code",
   "execution_count": 7,
   "id": "e98d67c4-b5d9-4b99-ad2f-c28a821423df",
   "metadata": {},
   "outputs": [
    {
     "name": "stderr",
     "output_type": "stream",
     "text": [
      "/tmp/ipykernel_111/3491401086.py:2: FutureWarning: Unlike other reduction functions (e.g. `skew`, `kurtosis`), the default behavior of `mode` typically preserves the axis it acts along. In SciPy 1.11.0, this behavior will change: the default value of `keepdims` will become False, the `axis` over which the statistic is taken will be eliminated, and the value None will no longer be accepted. Set `keepdims` to True or False to avoid this warning.\n",
      "  stats.mode(l)\n"
     ]
    },
    {
     "data": {
      "text/plain": [
       "ModeResult(mode=array([177.]), count=array([3]))"
      ]
     },
     "execution_count": 7,
     "metadata": {},
     "output_type": "execute_result"
    }
   ],
   "source": [
    "from scipy import stats\n",
    "stats.mode(l)"
   ]
  },
  {
   "cell_type": "markdown",
   "id": "c1543e3c-a36e-4291-8869-3219da973331",
   "metadata": {},
   "source": [
    "Q4. Find the standard deviation for the given data:\n",
    "\n"
   ]
  },
  {
   "cell_type": "code",
   "execution_count": 8,
   "id": "da939d67-42df-4ee5-9318-634507f580b1",
   "metadata": {},
   "outputs": [],
   "source": [
    " l = [178,177,176,177,178.2,178,175,179,180,175,178.9,176.2,177,172.5,178,176.5]"
   ]
  },
  {
   "cell_type": "code",
   "execution_count": 9,
   "id": "285f410d-5d69-4818-bb87-cb78cde8c6ad",
   "metadata": {},
   "outputs": [
    {
     "data": {
      "text/plain": [
       "1.7885814036548633"
      ]
     },
     "execution_count": 9,
     "metadata": {},
     "output_type": "execute_result"
    }
   ],
   "source": [
    "np.std(l)"
   ]
  },
  {
   "cell_type": "markdown",
   "id": "c2e84342-9d59-4399-876f-de6042c84da6",
   "metadata": {},
   "source": [
    "Q5. How are measures of dispersion such as range, variance, and standard deviation used to describe \n",
    "the spread of a dataset? Provide an example."
   ]
  },
  {
   "cell_type": "markdown",
   "id": "7cf4b35c-7f65-423b-b0b5-ded8ca13d688",
   "metadata": {},
   "source": [
    "Variance: -  It tells us how the data is spread.\n",
    "\n",
    "Standard deviation:- It is a statistical measure of the amount of variation or dispersion in a set of value.\n",
    "\n",
    "range: - Difference between the maximum and minimum values in the dataset."
   ]
  },
  {
   "cell_type": "markdown",
   "id": "66da5821-a7e0-4b94-a02b-5d7ce2acbb17",
   "metadata": {},
   "source": [
    "Q6. What is a Venn diagram ?\n",
    "\n",
    "A Venn diagram is a visual representation that illustrates the relationships between sets"
   ]
  },
  {
   "cell_type": "markdown",
   "id": "15d8a417-1878-4cd4-8ff7-5cc06ade30f1",
   "metadata": {},
   "source": [
    "Q8. What do you understand about skewness in data ? "
   ]
  },
  {
   "cell_type": "markdown",
   "id": "afa7530b-e825-4d3e-8d58-21e9ec919896",
   "metadata": {},
   "source": [
    "Ans : -  It helps to understand how the data is distributed whether it is normal distribution, right skewed or left skewed. The mean, median, and mode all are perfectly at the center then it is called symmetrical distribution / Normal distribution."
   ]
  },
  {
   "cell_type": "markdown",
   "id": "7dc8186c-4eea-4fbf-84c9-ec56c86b37f2",
   "metadata": {},
   "source": [
    "Q9. If a data is right skewed then what will be the position of median with respect to mean?"
   ]
  },
  {
   "cell_type": "markdown",
   "id": "1fa4cb69-eac5-440b-8599-eb2f896df23d",
   "metadata": {},
   "source": [
    "Ans:- The mean, median, and mode all are perfectly at the right side. mean > median > mode  "
   ]
  },
  {
   "cell_type": "markdown",
   "id": "2da1f459-38d0-4ef9-8d3f-c57bd119af05",
   "metadata": {},
   "source": [
    "Q10. Explain the difference between covariance and correlation. How are these measures used in \n",
    "statistical analysis?"
   ]
  },
  {
   "cell_type": "markdown",
   "id": "0256a8af-ee5a-42f2-b0ee-c92b06891965",
   "metadata": {},
   "source": [
    "Covariance measures the extent to which two variables change together, indicating the direction of the relationship. However, it is not standardized and its scale can be hard to interpret.\n",
    "\n",
    "Correlation is a standardized measure of the strength and direction of a linear relationship between two variables. It ranges from -1 to 1, making it easier to compare relationships between different pairs of variables."
   ]
  },
  {
   "cell_type": "markdown",
   "id": "426b53a6-2491-44b3-9312-c3dcc7d1314a",
   "metadata": {},
   "source": [
    "Q12. For a normal distribution data what is the relationship between its measure of central tendency?\n",
    "Ans : - Mean>median>mode"
   ]
  },
  {
   "cell_type": "markdown",
   "id": "8960f51b-6658-4a5d-bed4-2c12f873c60c",
   "metadata": {},
   "source": [
    "Q13. How is covariance different from correlation?\n",
    "\n",
    "Covariance measures the extent to which two variables change together, indicating the direction of the relationship. However, it is not standardized and its scale can be hard to interpret.\n",
    "\n",
    "Correlation is a standardized measure of the strength and direction of a linear relationship between two variables. It ranges from -1 to 1, making it easier to compare relationships between different pairs of variables.\n"
   ]
  },
  {
   "cell_type": "markdown",
   "id": "74eb4c35-7f1c-42b4-acf7-779249c9e8a5",
   "metadata": {},
   "source": [
    "Q14. How do outliers affect measures of central tendency and dispersion? Provide an example ?"
   ]
  },
  {
   "cell_type": "code",
   "execution_count": null,
   "id": "552c0492-ad18-4dee-aff9-dc26b5755c2d",
   "metadata": {},
   "outputs": [],
   "source": [
    "Outliers can distort measures of central tendency, like the mean, by pulling them toward extreme values. They can also inflate measures of dispersion, such as the standard deviation, by increasing the overall spread of data. For instance, in a dataset with values {10, 15, 20, 25, 100}, the outlier (100) significantly influences both the mean and the standard deviation."
   ]
  }
 ],
 "metadata": {
  "kernelspec": {
   "display_name": "Python 3 (ipykernel)",
   "language": "python",
   "name": "python3"
  },
  "language_info": {
   "codemirror_mode": {
    "name": "ipython",
    "version": 3
   },
   "file_extension": ".py",
   "mimetype": "text/x-python",
   "name": "python",
   "nbconvert_exporter": "python",
   "pygments_lexer": "ipython3",
   "version": "3.10.8"
  }
 },
 "nbformat": 4,
 "nbformat_minor": 5
}
